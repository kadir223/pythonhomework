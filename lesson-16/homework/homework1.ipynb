{
 "cells": [
  {
   "metadata": {
    "ExecuteTime": {
     "end_time": "2025-04-13T08:17:39.523819Z",
     "start_time": "2025-04-13T08:17:39.520765Z"
    }
   },
   "cell_type": "code",
   "source": [
    "\n",
    "import pandas as pd\n",
    "import sqlite3"
   ],
   "id": "a494ac5b71f35401",
   "outputs": [],
   "execution_count": 3
  },
  {
   "metadata": {},
   "cell_type": "markdown",
   "source": "Load customers table",
   "id": "7f02a2207467fde8"
  },
  {
   "metadata": {
    "ExecuteTime": {
     "end_time": "2025-04-13T08:22:21.290078Z",
     "start_time": "2025-04-13T08:22:21.269612Z"
    }
   },
   "cell_type": "code",
   "source": [
    "\n",
    "conn=sqlite3.connect('/Users/kadyr/pythonhomework/lesson-16/learning/chinook.db')\n",
    "customers=pd.read_sql_query(\"SELECT * FROM customers\", conn)\n",
    "print(customers.head(10))"
   ],
   "id": "653cb80aad66f388",
   "outputs": [
    {
     "name": "stdout",
     "output_type": "stream",
     "text": [
      "   CustomerId  FirstName     LastName  \\\n",
      "0           1       Luís    Gonçalves   \n",
      "1           2     Leonie       Köhler   \n",
      "2           3   François     Tremblay   \n",
      "3           4      Bjørn       Hansen   \n",
      "4           5  František  Wichterlová   \n",
      "5           6     Helena         Holý   \n",
      "6           7     Astrid       Gruber   \n",
      "7           8       Daan      Peeters   \n",
      "8           9       Kara      Nielsen   \n",
      "9          10    Eduardo      Martins   \n",
      "\n",
      "                                            Company  \\\n",
      "0  Embraer - Empresa Brasileira de Aeronáutica S.A.   \n",
      "1                                              None   \n",
      "2                                              None   \n",
      "3                                              None   \n",
      "4                                  JetBrains s.r.o.   \n",
      "5                                              None   \n",
      "6                                              None   \n",
      "7                                              None   \n",
      "8                                              None   \n",
      "9                                  Woodstock Discos   \n",
      "\n",
      "                                Address                 City State  \\\n",
      "0       Av. Brigadeiro Faria Lima, 2170  São José dos Campos    SP   \n",
      "1               Theodor-Heuss-Straße 34            Stuttgart  None   \n",
      "2                     1498 rue Bélanger             Montréal    QC   \n",
      "3                      Ullevålsveien 14                 Oslo  None   \n",
      "4                         Klanova 9/506               Prague  None   \n",
      "5                         Rilská 3174/6               Prague  None   \n",
      "6  Rotenturmstraße 4, 1010 Innere Stadt               Vienne  None   \n",
      "7                       Grétrystraat 63             Brussels  None   \n",
      "8                   Sønder Boulevard 51           Copenhagen  None   \n",
      "9             Rua Dr. Falcão Filho, 155            São Paulo    SP   \n",
      "\n",
      "          Country PostalCode               Phone                 Fax  \\\n",
      "0          Brazil  12227-000  +55 (12) 3923-5555  +55 (12) 3923-5566   \n",
      "1         Germany      70174    +49 0711 2842222                None   \n",
      "2          Canada    H2G 1A7   +1 (514) 721-4711                None   \n",
      "3          Norway       0171     +47 22 44 22 22                None   \n",
      "4  Czech Republic      14700    +420 2 4172 5555    +420 2 4172 5555   \n",
      "5  Czech Republic      14300    +420 2 4177 0449                None   \n",
      "6         Austria       1010      +43 01 5134505                None   \n",
      "7         Belgium       1000    +32 02 219 03 03                None   \n",
      "8         Denmark       1720      +453 3331 9991                None   \n",
      "9          Brazil  01007-010  +55 (11) 3033-5446  +55 (11) 3033-4564   \n",
      "\n",
      "                      Email  SupportRepId  \n",
      "0      luisg@embraer.com.br             3  \n",
      "1     leonekohler@surfeu.de             5  \n",
      "2       ftremblay@gmail.com             3  \n",
      "3     bjorn.hansen@yahoo.no             4  \n",
      "4  frantisekw@jetbrains.com             4  \n",
      "5           hholy@gmail.com             5  \n",
      "6    astrid.gruber@apple.at             5  \n",
      "7     daan_peeters@apple.be             4  \n",
      "8     kara.nielsen@jubii.dk             4  \n",
      "9  eduardo@woodstock.com.br             4  \n"
     ]
    }
   ],
   "execution_count": 22
  },
  {
   "metadata": {
    "ExecuteTime": {
     "end_time": "2025-04-13T08:25:54.484308Z",
     "start_time": "2025-04-13T08:25:54.475009Z"
    }
   },
   "cell_type": "code",
   "source": [
    "iris_df=pd.read_json('/Users/kadyr/pythonhomework/lesson-16/learning/iris.json')\n",
    "print(iris_df.shape, iris_df.head(0))\n"
   ],
   "id": "aa359e4197b72e1c",
   "outputs": [
    {
     "name": "stdout",
     "output_type": "stream",
     "text": [
      "(150, 5) Empty DataFrame\n",
      "Columns: [sepalLength, sepalWidth, petalLength, petalWidth, species]\n",
      "Index: []\n"
     ]
    }
   ],
   "execution_count": 31
  },
  {
   "metadata": {
    "ExecuteTime": {
     "end_time": "2025-04-13T08:47:07.612877Z",
     "start_time": "2025-04-13T08:47:07.499348Z"
    }
   },
   "cell_type": "code",
   "source": [
    "titanic_df=pd.read_excel('/Users/kadyr/pythonhomework/lesson-16/learning/titanic.xlsx')\n",
    "print(titanic_df.head(5))"
   ],
   "id": "481f58aa3b878bce",
   "outputs": [
    {
     "name": "stdout",
     "output_type": "stream",
     "text": [
      "   PassengerId  Survived  Pclass  \\\n",
      "0            1         0       3   \n",
      "1            2         1       1   \n",
      "2            3         1       3   \n",
      "3            4         1       1   \n",
      "4            5         0       3   \n",
      "\n",
      "                                                Name     Sex   Age  SibSp  \\\n",
      "0                            Braund, Mr. Owen Harris    male  22.0      1   \n",
      "1  Cumings, Mrs. John Bradley (Florence Briggs Th...  female  38.0      1   \n",
      "2                             Heikkinen, Miss. Laina  female  26.0      0   \n",
      "3       Futrelle, Mrs. Jacques Heath (Lily May Peel)  female  35.0      1   \n",
      "4                           Allen, Mr. William Henry    male  35.0      0   \n",
      "\n",
      "   Parch            Ticket     Fare Cabin Embarked  \n",
      "0      0         A/5 21171   7.2500   NaN        S  \n",
      "1      0          PC 17599  71.2833   C85        C  \n",
      "2      0  STON/O2. 3101282   7.9250   NaN        S  \n",
      "3      0            113803  53.1000  C123        S  \n",
      "4      0            373450   8.0500   NaN        S  \n"
     ]
    }
   ],
   "execution_count": 35
  },
  {
   "metadata": {
    "ExecuteTime": {
     "end_time": "2025-04-13T08:48:32.974410Z",
     "start_time": "2025-04-13T08:48:32.936171Z"
    }
   },
   "cell_type": "code",
   "source": [
    "df_movie=pd.read_csv(\"/Users/kadyr/pythonhomework/lesson-16/learning/movie.csv\")\n",
    "print(df_movie.sample(10))"
   ],
   "id": "f6941a00f5bc79ef",
   "outputs": [
    {
     "name": "stdout",
     "output_type": "stream",
     "text": [
      "                color   director_name  num_critic_for_reviews  duration  \\\n",
      "2118  Black and White       Katt Shea                    85.0     104.0   \n",
      "4098  Black and White     Martin Ritt                    65.0     112.0   \n",
      "1589            Color    Harold Ramis                   145.0     103.0   \n",
      "167             Color      Jon M. Chu                   351.0     122.0   \n",
      "3870            Color     Dan Ireland                    19.0     100.0   \n",
      "4128            Color   Dominic Burns                    20.0     101.0   \n",
      "1275  Black and White   Irwin Winkler                    55.0     128.0   \n",
      "297             Color  Jon Turteltaub                   193.0     131.0   \n",
      "3496            Color     Robert Wise                    57.0     115.0   \n",
      "1794            Color     Steve Miner                   152.0      82.0   \n",
      "\n",
      "      director_facebook_likes  actor_3_facebook_likes      actor_2_name  \\\n",
      "2118                     52.0                   484.0  Rachel Blanchard   \n",
      "4098                     58.0                   124.0    Melvyn Douglas   \n",
      "1589                  11000.0                   636.0  Chazz Palminteri   \n",
      "167                     209.0                   934.0    Dwayne Johnson   \n",
      "3870                    137.0                   476.0      Danny Arroyo   \n",
      "4128                     15.0                   663.0      Sean Pertwee   \n",
      "1275                     34.0                   685.0       Nathan Lane   \n",
      "297                     226.0                   341.0    Armando Riesco   \n",
      "3496                    338.0                    45.0       Paula Kelly   \n",
      "1794                     49.0                   429.0     Bridget Fonda   \n",
      "\n",
      "      actor_1_facebook_likes        gross  \\\n",
      "2118                   711.0   17757087.0   \n",
      "4098                   617.0          NaN   \n",
      "1589                 22000.0  106694016.0   \n",
      "167                  17000.0  122512052.0   \n",
      "3870                  4000.0          NaN   \n",
      "4128                   844.0          NaN   \n",
      "1275                   978.0   22326247.0   \n",
      "297                  12000.0  173005002.0   \n",
      "3496                   116.0          NaN   \n",
      "1794                  1000.0   31768374.0   \n",
      "\n",
      "                                      genres  ... num_user_for_reviews  \\\n",
      "2118                  Horror|Sci-Fi|Thriller  ...                253.0   \n",
      "4098                                   Drama  ...                120.0   \n",
      "1589                            Comedy|Crime  ...                337.0   \n",
      "167         Action|Adventure|Sci-Fi|Thriller  ...                288.0   \n",
      "3870                    Comedy|Drama|Romance  ...                 40.0   \n",
      "4128                           Comedy|Sci-Fi  ...                 82.0   \n",
      "1275                           Drama|Romance  ...                106.0   \n",
      "297   Action|Adventure|Comedy|Family|Mystery  ...                692.0   \n",
      "3496                         Sci-Fi|Thriller  ...                171.0   \n",
      "1794                    Action|Comedy|Horror  ...                366.0   \n",
      "\n",
      "     language  country  content_rating       budget  title_year  \\\n",
      "2118  English      USA               R   21000000.0      1999.0   \n",
      "4098  English      USA        Approved    2500000.0      1963.0   \n",
      "1589  English      USA               R   30000000.0      1999.0   \n",
      "167   English      USA           PG-13  130000000.0      2013.0   \n",
      "3870  English      USA               R    4000000.0      1998.0   \n",
      "4128  English       UK               R    2500000.0      2012.0   \n",
      "1275  English      USA           PG-13   60000000.0      1999.0   \n",
      "297   English      USA              PG  100000000.0      2004.0   \n",
      "3496  English      USA               G    6500000.0      1971.0   \n",
      "1794  English      USA               R   27000000.0      1999.0   \n",
      "\n",
      "     actor_2_facebook_likes imdb_score  aspect_ratio movie_facebook_likes  \n",
      "2118                  490.0        4.6          1.85                  897  \n",
      "4098                  189.0        7.9          2.35                 1000  \n",
      "1589                  979.0        6.7          1.85                    0  \n",
      "167                 12000.0        5.8          2.35                42000  \n",
      "3870                  575.0        5.0          2.35                   98  \n",
      "4128                  722.0        3.1          2.35                    0  \n",
      "1275                  886.0        5.9          1.85                    0  \n",
      "297                   625.0        6.9          2.35                    0  \n",
      "3496                  112.0        7.2          2.35                    0  \n",
      "1794                  888.0        5.6          2.35                 2000  \n",
      "\n",
      "[10 rows x 28 columns]\n"
     ]
    }
   ],
   "execution_count": 37
  },
  {
   "metadata": {},
   "cell_type": "code",
   "outputs": [],
   "execution_count": null,
   "source": [
    "iris_df.columns = [col.lower() for col in iris_df.columns]\n",
    "iris_selected = iris_df[['sepallength', 'sepalwidth']]\n",
    "print(iris_selected.head())\n"
   ],
   "id": "e46391e37c07803c"
  },
  {
   "metadata": {
    "ExecuteTime": {
     "end_time": "2025-04-13T09:28:43.986188Z",
     "start_time": "2025-04-13T09:28:43.961891Z"
    }
   },
   "cell_type": "code",
   "source": [
    "above_30=titanic_df[titanic_df['Age']>30]\n",
    "print(titanic_df.head())\n",
    "gender_count=titanic_df['Sex'].value_counts()\n",
    "print(gender_count)\n"
   ],
   "id": "a59fa4dd5b01b0b0",
   "outputs": [
    {
     "name": "stdout",
     "output_type": "stream",
     "text": [
      "   PassengerId  Survived  Pclass  \\\n",
      "0            1         0       3   \n",
      "1            2         1       1   \n",
      "2            3         1       3   \n",
      "3            4         1       1   \n",
      "4            5         0       3   \n",
      "\n",
      "                                                Name     Sex   Age  SibSp  \\\n",
      "0                            Braund, Mr. Owen Harris    male  22.0      1   \n",
      "1  Cumings, Mrs. John Bradley (Florence Briggs Th...  female  38.0      1   \n",
      "2                             Heikkinen, Miss. Laina  female  26.0      0   \n",
      "3       Futrelle, Mrs. Jacques Heath (Lily May Peel)  female  35.0      1   \n",
      "4                           Allen, Mr. William Henry    male  35.0      0   \n",
      "\n",
      "   Parch            Ticket     Fare Cabin Embarked  \n",
      "0      0         A/5 21171   7.2500   NaN        S  \n",
      "1      0          PC 17599  71.2833   C85        C  \n",
      "2      0  STON/O2. 3101282   7.9250   NaN        S  \n",
      "3      0            113803  53.1000  C123        S  \n",
      "4      0            373450   8.0500   NaN        S  \n",
      "Sex\n",
      "male      577\n",
      "female    314\n",
      "Name: count, dtype: int64\n"
     ]
    }
   ],
   "execution_count": 40
  },
  {
   "metadata": {
    "ExecuteTime": {
     "end_time": "2025-04-13T09:32:43.504702Z",
     "start_time": "2025-04-13T09:32:43.468801Z"
    }
   },
   "cell_type": "code",
   "source": [
    "less_120=df_movie[df_movie['duration']<120]\n",
    "print(less_120)\n",
    "sorted_list=df_movie.sort_values(by='director_facebook_likes', ascending=False)\n",
    "print(sorted_list)"
   ],
   "id": "85a342c7604d0ba7",
   "outputs": [
    {
     "name": "stdout",
     "output_type": "stream",
     "text": [
      "      color     director_name  num_critic_for_reviews  duration  \\\n",
      "7     Color      Nathan Greno                   324.0     100.0   \n",
      "12    Color      Marc Forster                   403.0     106.0   \n",
      "19    Color  Barry Sonnenfeld                   451.0     106.0   \n",
      "24    Color       Chris Weitz                   251.0     113.0   \n",
      "33    Color        Tim Burton                   451.0     108.0   \n",
      "...     ...               ...                     ...       ...   \n",
      "4911  Color       Scott Smith                     1.0      87.0   \n",
      "4912  Color               NaN                    43.0      43.0   \n",
      "4913  Color  Benjamin Roberds                    13.0      76.0   \n",
      "4914  Color       Daniel Hsia                    14.0     100.0   \n",
      "4915  Color          Jon Gunn                    43.0      90.0   \n",
      "\n",
      "      director_facebook_likes  actor_3_facebook_likes       actor_2_name  \\\n",
      "7                        15.0                   284.0       Donna Murphy   \n",
      "12                      395.0                   393.0    Mathieu Amalric   \n",
      "19                      188.0                   718.0  Michael Stuhlbarg   \n",
      "24                      129.0                  1000.0          Eva Green   \n",
      "33                    13000.0                 11000.0       Alan Rickman   \n",
      "...                       ...                     ...                ...   \n",
      "4911                      2.0                   318.0      Daphne Zuniga   \n",
      "4912                      NaN                   319.0      Valorie Curry   \n",
      "4913                      0.0                     0.0      Maxwell Moody   \n",
      "4914                      0.0                   489.0      Daniel Henney   \n",
      "4915                     16.0                    16.0   Brian Herzlinger   \n",
      "\n",
      "      actor_1_facebook_likes        gross  \\\n",
      "7                      799.0  200807262.0   \n",
      "12                     451.0  168368427.0   \n",
      "19                   10000.0  179020854.0   \n",
      "24                   16000.0   70083519.0   \n",
      "33                   40000.0  334185206.0   \n",
      "...                      ...          ...   \n",
      "4911                   637.0          NaN   \n",
      "4912                   841.0          NaN   \n",
      "4913                     0.0          NaN   \n",
      "4914                   946.0      10443.0   \n",
      "4915                    86.0      85222.0   \n",
      "\n",
      "                                                 genres  ...  \\\n",
      "7     Adventure|Animation|Comedy|Family|Fantasy|Musi...  ...   \n",
      "12                                     Action|Adventure  ...   \n",
      "19        Action|Adventure|Comedy|Family|Fantasy|Sci-Fi  ...   \n",
      "24                             Adventure|Family|Fantasy  ...   \n",
      "33                             Adventure|Family|Fantasy  ...   \n",
      "...                                                 ...  ...   \n",
      "4911                                       Comedy|Drama  ...   \n",
      "4912                       Crime|Drama|Mystery|Thriller  ...   \n",
      "4913                              Drama|Horror|Thriller  ...   \n",
      "4914                               Comedy|Drama|Romance  ...   \n",
      "4915                                        Documentary  ...   \n",
      "\n",
      "     num_user_for_reviews language  country  content_rating       budget  \\\n",
      "7                   387.0  English      USA              PG  260000000.0   \n",
      "12                 1243.0  English       UK           PG-13  200000000.0   \n",
      "19                  341.0  English      USA           PG-13  225000000.0   \n",
      "24                  666.0  English      USA           PG-13  180000000.0   \n",
      "33                  736.0  English      USA              PG  200000000.0   \n",
      "...                   ...      ...      ...             ...          ...   \n",
      "4911                  6.0  English   Canada             NaN          NaN   \n",
      "4912                359.0  English      USA           TV-14          NaN   \n",
      "4913                  3.0  English      USA             NaN       1400.0   \n",
      "4914                  9.0  English      USA           PG-13          NaN   \n",
      "4915                 84.0  English      USA              PG       1100.0   \n",
      "\n",
      "      title_year actor_2_facebook_likes imdb_score  aspect_ratio  \\\n",
      "7         2010.0                  553.0        7.8          1.85   \n",
      "12        2008.0                  412.0        6.7          2.35   \n",
      "19        2012.0                  816.0        6.8          1.85   \n",
      "24        2007.0                 6000.0        6.1          2.35   \n",
      "33        2010.0                25000.0        6.5          1.85   \n",
      "...          ...                    ...        ...           ...   \n",
      "4911      2013.0                  470.0        7.7           NaN   \n",
      "4912         NaN                  593.0        7.5         16.00   \n",
      "4913      2013.0                    0.0        6.3           NaN   \n",
      "4914      2012.0                  719.0        6.3          2.35   \n",
      "4915      2004.0                   23.0        6.6          1.85   \n",
      "\n",
      "     movie_facebook_likes  \n",
      "7                   29000  \n",
      "12                      0  \n",
      "19                  40000  \n",
      "24                      0  \n",
      "33                  24000  \n",
      "...                   ...  \n",
      "4911                   84  \n",
      "4912                32000  \n",
      "4913                   16  \n",
      "4914                  660  \n",
      "4915                  456  \n",
      "\n",
      "[3787 rows x 28 columns]\n",
      "      color         director_name  num_critic_for_reviews  duration  \\\n",
      "3603  Color  Joseph Gordon-Levitt                   364.0      90.0   \n",
      "120   Color     Christopher Nolan                   478.0     128.0   \n",
      "1057  Color     Christopher Nolan                   185.0     118.0   \n",
      "96    Color     Christopher Nolan                   712.0     169.0   \n",
      "97    Color     Christopher Nolan                   642.0     148.0   \n",
      "...     ...                   ...                     ...       ...   \n",
      "4683  Color                   NaN                    75.0      60.0   \n",
      "4688  Color                   NaN                    11.0      22.0   \n",
      "4704  Color                   NaN                    23.0      43.0   \n",
      "4752  Color                   NaN                    11.0      58.0   \n",
      "4912  Color                   NaN                    43.0      43.0   \n",
      "\n",
      "      director_facebook_likes  actor_3_facebook_likes        actor_2_name  \\\n",
      "3603                  23000.0                   694.0  Scarlett Johansson   \n",
      "120                   22000.0                 11000.0         Liam Neeson   \n",
      "1057                  22000.0                   319.0       Maura Tierney   \n",
      "96                    22000.0                  6000.0       Anne Hathaway   \n",
      "97                    22000.0                 23000.0           Tom Hardy   \n",
      "...                       ...                     ...                 ...   \n",
      "4683                      NaN                   833.0            Masi Oka   \n",
      "4688                      NaN                     6.0           Ron Lynch   \n",
      "4704                      NaN                   576.0    Tracy Spiridakos   \n",
      "4752                      NaN                   250.0        James Norton   \n",
      "4912                      NaN                   319.0       Valorie Curry   \n",
      "\n",
      "      actor_1_facebook_likes        gross                            genres  \\\n",
      "3603                 23000.0   24475193.0              Comedy|Drama|Romance   \n",
      "120                  23000.0  205343774.0                  Action|Adventure   \n",
      "1057                 14000.0   67263182.0            Drama|Mystery|Thriller   \n",
      "96                   11000.0  187991439.0            Adventure|Drama|Sci-Fi   \n",
      "97                   29000.0  292568851.0  Action|Adventure|Sci-Fi|Thriller   \n",
      "...                      ...          ...                               ...   \n",
      "4683                  1000.0          NaN     Drama|Fantasy|Sci-Fi|Thriller   \n",
      "4688                    59.0          NaN            Animation|Comedy|Drama   \n",
      "4704                  2000.0          NaN     Action|Adventure|Drama|Sci-Fi   \n",
      "4752                   887.0          NaN                       Crime|Drama   \n",
      "4912                   841.0          NaN      Crime|Drama|Mystery|Thriller   \n",
      "\n",
      "      ... num_user_for_reviews language  country  content_rating       budget  \\\n",
      "3603  ...                314.0  English      USA               R    3000000.0   \n",
      "120   ...               2685.0  English      USA           PG-13  150000000.0   \n",
      "1057  ...                651.0  English      USA               R   46000000.0   \n",
      "96    ...               2725.0  English      USA           PG-13  165000000.0   \n",
      "97    ...               2803.0  English      USA           PG-13  160000000.0   \n",
      "...   ...                  ...      ...      ...             ...          ...   \n",
      "4683  ...                379.0  English      USA           TV-14          NaN   \n",
      "4688  ...                 82.0  English      USA           TV-PG          NaN   \n",
      "4704  ...                323.0  English      USA           TV-14          NaN   \n",
      "4752  ...                 59.0  English       UK           TV-MA          NaN   \n",
      "4912  ...                359.0  English      USA           TV-14          NaN   \n",
      "\n",
      "      title_year actor_2_facebook_likes imdb_score  aspect_ratio  \\\n",
      "3603      2013.0                19000.0        6.6          2.35   \n",
      "120       2005.0                14000.0        8.3          2.35   \n",
      "1057      2002.0                  509.0        7.2          2.35   \n",
      "96        2014.0                11000.0        8.6          2.35   \n",
      "97        2010.0                27000.0        8.8          2.35   \n",
      "...          ...                    ...        ...           ...   \n",
      "4683         NaN                  923.0        7.7         16.00   \n",
      "4688         NaN                   11.0        8.2          1.33   \n",
      "4704         NaN                  821.0        6.7         16.00   \n",
      "4752         NaN                  340.0        8.5         16.00   \n",
      "4912         NaN                  593.0        7.5         16.00   \n",
      "\n",
      "     movie_facebook_likes  \n",
      "3603                33000  \n",
      "120                 15000  \n",
      "1057                    0  \n",
      "96                 349000  \n",
      "97                 175000  \n",
      "...                   ...  \n",
      "4683                    0  \n",
      "4688                  526  \n",
      "4704                17000  \n",
      "4752                10000  \n",
      "4912                32000  \n",
      "\n",
      "[4916 rows x 28 columns]\n"
     ]
    }
   ],
   "execution_count": 41
  },
  {
   "metadata": {
    "ExecuteTime": {
     "end_time": "2025-04-13T09:49:39.413554Z",
     "start_time": "2025-04-13T09:49:39.391450Z"
    }
   },
   "cell_type": "code",
   "source": [
    "print(\"Mean\\n\", iris_df.mean(numeric_only=True))\n",
    "print(\"Median\\n\", iris_df.median(numeric_only=True))\n",
    "print(\"standard deviation:\\n\", iris_df.std(numeric_only=True))\n"
   ],
   "id": "e164c5977583023a",
   "outputs": [
    {
     "name": "stdout",
     "output_type": "stream",
     "text": [
      "Mean\n",
      " sepalLength    5.843333\n",
      "sepalWidth     3.057333\n",
      "petalLength    3.758000\n",
      "petalWidth     1.199333\n",
      "dtype: float64\n",
      "Median\n",
      " sepalLength    5.80\n",
      "sepalWidth     3.00\n",
      "petalLength    4.35\n",
      "petalWidth     1.30\n",
      "dtype: float64\n",
      "standard deviation:\n",
      " sepalLength    0.828066\n",
      "sepalWidth     0.435866\n",
      "petalLength    1.765298\n",
      "petalWidth     0.762238\n",
      "dtype: float64\n"
     ]
    }
   ],
   "execution_count": 42
  },
  {
   "metadata": {
    "ExecuteTime": {
     "end_time": "2025-04-13T10:05:43.976222Z",
     "start_time": "2025-04-13T10:05:43.967021Z"
    }
   },
   "cell_type": "code",
   "source": [
    "print(\"minimum age:\\n\", titanic_df['Age'].min())\n",
    "print ('max age:\\n', titanic_df['Age'].max())\n",
    "print(\"sum age:\\n\", titanic_df['Age'].sum())"
   ],
   "id": "cbaead9c1f4ee07b",
   "outputs": [
    {
     "name": "stdout",
     "output_type": "stream",
     "text": [
      "minimum age:\n",
      " 0.42\n",
      "max age:\n",
      " 80.0\n",
      "sum age:\n",
      " 21205.17\n"
     ]
    }
   ],
   "execution_count": 45
  },
  {
   "metadata": {
    "ExecuteTime": {
     "end_time": "2025-04-13T10:30:07.356247Z",
     "start_time": "2025-04-13T10:30:07.350221Z"
    }
   },
   "cell_type": "code",
   "source": [
    "likes_by_director=df_movie.groupby('director_name')['director_facebook_likes'].sum()\n",
    "top_director=likes_by_director.idxmax()\n",
    "top_likes=likes_by_director.max().astype(int)\n",
    "print(f\"Top director: {top_director} with top likes {top_likes}\")"
   ],
   "id": "d84a209059547d93",
   "outputs": [
    {
     "name": "stdout",
     "output_type": "stream",
     "text": [
      "Top director: Steven Spielberg with top likes 364000\n"
     ]
    }
   ],
   "execution_count": 50
  },
  {
   "metadata": {},
   "cell_type": "code",
   "outputs": [],
   "execution_count": null,
   "source": "",
   "id": "e2e23b773fce049e"
  }
 ],
 "metadata": {
  "kernelspec": {
   "display_name": "Python 3",
   "language": "python",
   "name": "python3"
  },
  "language_info": {
   "codemirror_mode": {
    "name": "ipython",
    "version": 2
   },
   "file_extension": ".py",
   "mimetype": "text/x-python",
   "name": "python",
   "nbconvert_exporter": "python",
   "pygments_lexer": "ipython2",
   "version": "2.7.6"
  }
 },
 "nbformat": 4,
 "nbformat_minor": 5
}
